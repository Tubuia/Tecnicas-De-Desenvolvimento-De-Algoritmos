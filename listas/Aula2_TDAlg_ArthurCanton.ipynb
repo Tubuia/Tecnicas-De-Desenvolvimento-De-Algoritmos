{
  "nbformat": 4,
  "nbformat_minor": 0,
  "metadata": {
    "colab": {
      "provenance": []
    },
    "kernelspec": {
      "name": "python3",
      "display_name": "Python 3"
    },
    "language_info": {
      "name": "python"
    }
  },
  "cells": [
    {
      "cell_type": "markdown",
      "source": [
        "Nome: Arthur Canton Souza de Paula\n",
        "\n",
        "Turma: Ciencia da Computação\n",
        "\n",
        "![Python-logo.png](data:image/png;base64,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)"
      ],
      "metadata": {
        "id": "BmviwvPSQTIi"
      }
    },
    {
      "cell_type": "code",
      "execution_count": null,
      "metadata": {
        "colab": {
          "base_uri": "https://localhost:8080/"
        },
        "id": "wl9gkpveNbP4",
        "outputId": "8ab1f964-d3ab-434d-c3a4-9180fe69bd8d"
      },
      "outputs": [
        {
          "output_type": "stream",
          "name": "stdout",
          "text": [
            "--Exercicio 1--\n",
            "Digie um numero real: 10\n",
            "O numero informado não é maior que 10\n"
          ]
        }
      ],
      "source": [
        "'''\n",
        "Elabore um programa que solicite ao usuário um número real e ao final imprima na tela se o\n",
        "número informado é maior que 10 (dez)\n",
        "'''\n",
        "print(\"--Exercicio 1--\")\n",
        "numeroR = float(input(\"Digie um numero real: \"))\n",
        "if numeroR > 10:\n",
        "  print(\"O numero informado é maior que 10\")\n",
        "else:\n",
        "  print(\"O numero informado não é maior que 10\")"
      ]
    },
    {
      "cell_type": "code",
      "source": [
        "'''\n",
        "Escreva um programa que solicite ao usuário um número real e ao final imprima na tela se\n",
        "o número informado é maior ou igual a dez ou menor que 10 (dez)\n",
        "'''\n",
        "print(\"--Exercicio 2--\")\n",
        "numeroR = float(input(\"Digie um numero real: \"))\n",
        "if numeroR >= 10:\n",
        "  print(\"O numero informado é maior ou igual a 10\")\n",
        "else:\n",
        "  print(\"O numero informado é menor que 10\")"
      ],
      "metadata": {
        "colab": {
          "base_uri": "https://localhost:8080/"
        },
        "id": "5bPlxup0OGkA",
        "outputId": "80f14620-92f8-4375-ad26-030106fa6053"
      },
      "execution_count": null,
      "outputs": [
        {
          "output_type": "stream",
          "name": "stdout",
          "text": [
            "--Exercicio 2--\n",
            "Digie um numero real: 10\n",
            "O numero informado é maior ou igual a 10\n"
          ]
        }
      ]
    },
    {
      "cell_type": "code",
      "source": [
        "'''\n",
        "Elabore um algoritmo que solicite ao usuário um número real e ao final imprima na tela se o\n",
        "número informado é maior que dez, se é menor que dez, ou se é igual a dez\n",
        "'''\n",
        "print(\"--Exercicio 3--\")\n",
        "numeroR = float(input(\"Digie um numero real: \"))\n",
        "if numeroR == 10:\n",
        "  print(\"O numero informado é igual a 10\")\n",
        "elif numeroR > 10:\n",
        "  print(\"O numero informado é maior que 10\")\n",
        "else:\n",
        "  print(\"O numero informado é menor que 10\")"
      ],
      "metadata": {
        "id": "LbpmK3RGOHWP"
      },
      "execution_count": null,
      "outputs": []
    },
    {
      "cell_type": "code",
      "source": [
        "'''\n",
        "Elabore um algoritmo que solicite ao usuário um número real e ao final imprima na tela se o\n",
        "número informado é positivo, negativo ou nulo (zero)\n",
        "'''\n",
        "print(\"--Exercicio 4--\")\n",
        "numeroR = float(input(\"Digie um numero real: \"))\n",
        "if numeroR > 0:\n",
        "  print(\"O numero informado é positivo\")\n",
        "elif numeroR < 0:\n",
        "  print(\"O numero informado é negativo\")\n",
        "elif numeroR == 0:\n",
        "  print(\"O numero informado é nulo\")"
      ],
      "metadata": {
        "colab": {
          "base_uri": "https://localhost:8080/"
        },
        "id": "Q5aZA6ovOIIn",
        "outputId": "2a492775-d7a9-43d0-c241-404eb863f67c"
      },
      "execution_count": null,
      "outputs": [
        {
          "output_type": "stream",
          "name": "stdout",
          "text": [
            "--Exercicio 4--\n",
            "Digie um numero real: 0\n",
            "O numero informado é nulo\n"
          ]
        }
      ]
    },
    {
      "cell_type": "code",
      "source": [
        "'''\n",
        "Elabore um algoritmo que leia um número inteiro e imprima uma das mensagens: é múltiplo\n",
        "de 3, ou, não é múltiplo de 3\n",
        "'''\n",
        "print(\"--Exercicio 5--\")\n",
        "numeroR = float(input(\"Digie um numero real: \"))\n",
        "if numeroR % 3 == 0:\n",
        "  print(\"O numero informado é multiplo de 3\")\n",
        "else:\n",
        "  print(\"O numero informado não é multiplo de 3\")"
      ],
      "metadata": {
        "colab": {
          "base_uri": "https://localhost:8080/"
        },
        "id": "emApawE6OJGn",
        "outputId": "502a4a20-79b5-4022-e1b7-d3be3c37aa6c"
      },
      "execution_count": null,
      "outputs": [
        {
          "output_type": "stream",
          "name": "stdout",
          "text": [
            "--Exercicio 5--\n",
            "Digie um numero real: 2\n",
            "O numero informado não é multiplo de 3\n"
          ]
        }
      ]
    },
    {
      "cell_type": "code",
      "source": [
        "'''\n",
        "Refazer o exercício anterior, solicitando antes o múltiplo a ser testado\n",
        "'''\n",
        "print(\"--Exercicio 6--\")\n",
        "numeroR = float(input(\"Digie um numero real: \"))\n",
        "multiplo = float(input(\"Digite o multiplo a ser testado: \"))\n",
        "if numeroR % multiplo == 0:\n",
        "  print(f\"O numero informado é multiplo de {multiplo:.2f}\")\n",
        "else:\n",
        "  print(f\"O numero informado não é multiplo de {multiplo:.2f}\")"
      ],
      "metadata": {
        "colab": {
          "base_uri": "https://localhost:8080/"
        },
        "id": "xXkKM6-9SLPF",
        "outputId": "e6611015-be74-4e00-8506-950599344535"
      },
      "execution_count": null,
      "outputs": [
        {
          "output_type": "stream",
          "name": "stdout",
          "text": [
            "--Exercicio 6--\n",
            "Digie um numero real: 3\n",
            "Digite o multiplo a ser testado: 5.12345678\n",
            "O numero informado não é multiplo de 5.12\n"
          ]
        }
      ]
    },
    {
      "cell_type": "code",
      "source": [
        "'''\n",
        "Desenvolva um algoritmo que classifique um número inteiro fornecido pelo usuário como\n",
        "par ou ímpar\n",
        "'''\n",
        "print(\"--Exercicio 7--\")\n",
        "numeroR = float(input(\"Digie um numero real: \"))\n",
        "if numeroR % 2 == 0:\n",
        "  print(\"O numero informado é par\")\n",
        "else:\n",
        "  print(\"O numero informado não é impar\")"
      ],
      "metadata": {
        "colab": {
          "base_uri": "https://localhost:8080/"
        },
        "id": "kkkY1OpbSoWW",
        "outputId": "5f08065d-d2ad-4b92-f300-86d0874aa9c0"
      },
      "execution_count": null,
      "outputs": [
        {
          "output_type": "stream",
          "name": "stdout",
          "text": [
            "--Exercicio 7--\n",
            "Digie um numero real: 0\n",
            "O numero informado é par\n"
          ]
        }
      ]
    },
    {
      "cell_type": "code",
      "source": [
        "'''\n",
        "Elabore um algoritmo que leia um número, e se ele for maior do que 20, imprimir a metade\n",
        "desse número, caso contrário, imprimir o dobro do número\n",
        "'''\n",
        "print(\"--Exercicio 8--\")\n",
        "numeroR = float(input(\"Digie um numero real: \"))\n",
        "if numeroR > 20:\n",
        "  print(numeroR / 2)\n",
        "else:\n",
        "  print(numeroR * 2)"
      ],
      "metadata": {
        "colab": {
          "base_uri": "https://localhost:8080/"
        },
        "id": "Y70m8-0zTEQ3",
        "outputId": "fe4b8ee7-b156-4949-a8f8-e6f4d4b58b50"
      },
      "execution_count": null,
      "outputs": [
        {
          "output_type": "stream",
          "name": "stdout",
          "text": [
            "--Exercicio 8--\n",
            "Digie um numero real: 35.978657890\n",
            "17.989328945\n"
          ]
        }
      ]
    },
    {
      "cell_type": "code",
      "source": [
        "'''\n",
        "Elabore um algoritmo que leia dois números inteiros e realize a adição; caso o resultado\n",
        "seja maior que 10, imprima o quadrado do resultado, caso contrário, imprima a metade dele\n",
        "'''\n",
        "print(\"--Exercicio 9--\")\n",
        "num1 = int(input(\"Digite um numero inteiro: \"))\n",
        "num2 = int(input(\"Digite outro numero inteiro: \"))\n",
        "soma = num1 + num2\n",
        "if soma > 10:\n",
        "  print(soma ** 2)\n",
        "else:\n",
        "  print(soma / 2)"
      ],
      "metadata": {
        "colab": {
          "base_uri": "https://localhost:8080/"
        },
        "id": "M-TK45t0TKiG",
        "outputId": "ad76705a-2c0d-4f04-994c-4b10e973a82e"
      },
      "execution_count": null,
      "outputs": [
        {
          "output_type": "stream",
          "name": "stdout",
          "text": [
            "--Exercicio 9--\n",
            "Digite um numero inteiro: 5\n",
            "Digite outro numero inteiro: 5\n",
            "5.0\n"
          ]
        }
      ]
    },
    {
      "cell_type": "code",
      "source": [
        "'''\n",
        "O sistema de avaliação de determinada disciplina é composto por três provas. A primeira\n",
        "prova tem peso 2, a segunda tem peso 3 e a terceira tem peso 5. Considerando que a\n",
        "média para aprovação é 6.0, faça um algoritmo para calcular a média final de um aluno\n",
        "desta disciplina e dizer se o aluno foi aprovado ou não\n",
        "'''\n",
        "print(\"--Exercicio 10--\")\n",
        "n1 = float(input(\"Digite a primeira nota: \"))\n",
        "n2 = float(input(\"Digite a segunda nota: \"))\n",
        "n3 = float(input(\"Digite a terceora nota: \"))\n",
        "media = (n1 * 2 + n2 * 3 + n3 * 5) / (2 + 3 + 5)\n",
        "print(media)\n",
        "if media >= 6:\n",
        "  print(\"Você foi aprovado\")\n",
        "else:\n",
        "  print(\"Você foi Reprovado\")"
      ],
      "metadata": {
        "colab": {
          "base_uri": "https://localhost:8080/"
        },
        "id": "q7UDAbomTQCf",
        "outputId": "4e5c01c8-64de-435f-cfc1-efe7e5683225"
      },
      "execution_count": null,
      "outputs": [
        {
          "output_type": "stream",
          "name": "stdout",
          "text": [
            "--Exercicio 10--\n",
            "Digite a primeira nota: 2\n",
            "Digite a segunda nota: 2\n",
            "Digite a terceora nota: 10\n",
            "6.0\n",
            "Você foi aprovado\n"
          ]
        }
      ]
    },
    {
      "cell_type": "code",
      "source": [
        "'''\n",
        "Elabore um algoritmo que leia o nome e o peso de duas pessoas e imprima o nome da\n",
        "pessoa mais pesada\n",
        "'''\n",
        "print(\"--Exercicio 11--\")\n",
        "nome1 = input(\"Digite o nome da primeira pessoa: \")\n",
        "peso1 = float(input(\"Digite o peso da primeira pessoa (em kg): \"))\n",
        "nome2 = input(\"Digite o nome da segunda pessoa: \")\n",
        "peso2 = float(input(\"Digite o peso da segunda pessoa (em kg): \"))\n",
        "if peso1 > peso2:\n",
        "    print(\"A pessoa mais pesada é:\", nome1)\n",
        "elif peso2 > peso1:\n",
        "    print(\"A pessoa mais pesada é:\", nome2)\n",
        "else:\n",
        "    print(\"As duas pessoas têm o mesmo peso.\")\n"
      ],
      "metadata": {
        "id": "WjEonRW7TRKX",
        "colab": {
          "base_uri": "https://localhost:8080/"
        },
        "outputId": "3c21b672-53e7-4950-b128-ded4e8419d62"
      },
      "execution_count": 1,
      "outputs": [
        {
          "output_type": "stream",
          "name": "stdout",
          "text": [
            "--Exercicio 11--\n",
            "Digite o nome da primeira pessoa: Arthur\n",
            "Digite o peso da primeira pessoa (em kg): 56\n",
            "Digite o nome da segunda pessoa: theo\n",
            "Digite o peso da segunda pessoa (em kg): 52\n",
            "A pessoa mais pesada é: Arthur\n"
          ]
        }
      ]
    },
    {
      "cell_type": "code",
      "source": [
        "'''\n",
        "Elabore um algoritmo que indique se um número digitado está compreendido entre 20 e\n",
        "90, ou não\n",
        "'''\n",
        "print(\"--Exercicio 12--\")\n",
        "numero = float(input(\"Digite um numero: \"))\n",
        "if 20 < numero < 90:\n",
        "  print(\"O numero digitado está entre 20 e 90\")\n",
        "else:\n",
        "  print(\"O numero digitado não está entre 20 e 90\")"
      ],
      "metadata": {
        "id": "fIFdRBI4TSl_",
        "colab": {
          "base_uri": "https://localhost:8080/"
        },
        "outputId": "0bc7f610-e980-4010-892b-408436768921"
      },
      "execution_count": 5,
      "outputs": [
        {
          "output_type": "stream",
          "name": "stdout",
          "text": [
            "--Exercicio 12--\n",
            "Digite um numero: 89\n",
            "O numero digitado está entre 20 e 90\n"
          ]
        }
      ]
    },
    {
      "cell_type": "code",
      "source": [
        "'''\n",
        "Elabore um algoritmo que leia dois números e imprima qual é maior, qual é menor, ou se\n",
        "são iguais\n",
        "'''\n",
        "print(\"--Exercicio 13--\")\n",
        "numero1 = float(input(\"Digite um numero: \"))\n",
        "numero2 = float(input(\"Digite outro numero: \"))\n",
        "if numero1 > numero2:\n",
        "    print(f\"O maior número é {numero1}\")\n",
        "    print(f\"O menor número é {numero2}\")\n",
        "elif numero2 > numero1:\n",
        "    print(f\"O maior número é {numero2}\")\n",
        "    print(f\"O menor número é {numero1}\")\n",
        "else:\n",
        "    print(\"Os dois números são iguais.\")"
      ],
      "metadata": {
        "id": "QpHO3ukyTTt3",
        "colab": {
          "base_uri": "https://localhost:8080/"
        },
        "outputId": "fde1b6e9-9d24-4144-f86f-d402e9c1bae5"
      },
      "execution_count": 9,
      "outputs": [
        {
          "output_type": "stream",
          "name": "stdout",
          "text": [
            "--Exercicio 13--\n",
            "Digite um numero: 5.5\n",
            "Digite outro numero: 5\n",
            "O maior número é 5.5\n",
            "O menor número é 5.0\n"
          ]
        }
      ]
    },
    {
      "cell_type": "code",
      "source": [
        "'''\n",
        "Escreva um programa em linguagem Python que solicite ao usuário a média para aprovação\n",
        "em um curso e em seguida solicite ao usuário o nome, sexo e as 03 notas do aluno e ao\n",
        "final imprima a frase: \"O aluno XXXXX foi aprovado com media YY\" considerando o gênero\n",
        "do(a) aluno(a) e se foi aprovado(a) ou reprovado(a)\n",
        "'''\n",
        "print(\"--Exercicio 14--\")\n",
        "media = float(input(\"Digite a media para a provação do curso: \"))\n",
        "nome = input(\"Digite o seu nome: \")\n",
        "sexo = int(input(\"Digite o seu sexo(Masculino = 1/Feminino = 2): \"))\n",
        "n1 = float(input(\"Digite a primeira nota: \"))\n",
        "n2 = float(input(\"Digite a segunda nota: \"))\n",
        "n3 = float(input(\"Digite a terceira nota: \"))\n",
        "media_aluno = (n1 + n2 + n3) / 3\n",
        "if media_aluno >= media:\n",
        "  if sexo == 1:\n",
        "    print(f\"O aluno {nome} foi aprovado com media {media_aluno:.1f}\")\n",
        "  elif sexo == 2:\n",
        "    print(f\"A aluna {nome} foi aprovada com media {media_aluno:.1f}\")\n",
        "  else:\n",
        "    print(f\"O(a) aluno(a) {nome} foi aprovado(a) com media {media_aluno:.1f}\")\n",
        "else:\n",
        "  if sexo == 1:\n",
        "    print(f\"O aluno {nome} foi reprovado com media {media_aluno:.1f}\")\n",
        "  elif sexo == 2:\n",
        "    print(f\"A aluna {nome} foi reprovada com media {media_aluno:.1f}\")\n",
        "  else:\n",
        "    print(f\"O(a) aluno(a) {nome} foi aprovado(a) com media {media_aluno:.1f}\")"
      ],
      "metadata": {
        "id": "A6_M-Lo3TU0P",
        "colab": {
          "base_uri": "https://localhost:8080/"
        },
        "outputId": "4a63a482-f330-4720-94b5-9fb9b47c0958"
      },
      "execution_count": 16,
      "outputs": [
        {
          "output_type": "stream",
          "name": "stdout",
          "text": [
            "--Exercicio 14--\n",
            "Digite a media para a provação do curso: 6\n",
            "Digite o seu nome: Arthur\n",
            "Digite o seu sexo(Masculino = 1/Feminino = 2): 0\n",
            "Digite a primeira nota: 6\n",
            "Digite a segunda nota: 6\n",
            "Digite a terceira nota: 6\n",
            "O(a) aluno(a) Arthur foi aprovado(a) com media 6.0\n"
          ]
        }
      ]
    }
  ]
}