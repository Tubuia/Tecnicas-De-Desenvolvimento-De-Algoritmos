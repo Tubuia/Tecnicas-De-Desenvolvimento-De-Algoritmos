{
  "nbformat": 4,
  "nbformat_minor": 0,
  "metadata": {
    "colab": {
      "provenance": []
    },
    "kernelspec": {
      "name": "python3",
      "display_name": "Python 3"
    },
    "language_info": {
      "name": "python"
    }
  },
  "cells": [
    {
      "cell_type": "markdown",
      "source": [
        "Nome: Arthur Canton Souza de Paula\n",
        "\n",
        "Turma: Ciencia da Computação\n",
        "\n",
        "![Python-logo.png](data:image/png;base64,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)"
      ],
      "metadata": {
        "id": "wLBEAOnLQX3_"
      }
    },
    {
      "cell_type": "code",
      "source": [
        "#Lista de Exercícios N° 01\n",
        "#Escreva um programa que apresente na tela a frase: \"Meu primeiro programa!!!\"\n",
        "print(\"Hello World\")"
      ],
      "metadata": {
        "colab": {
          "base_uri": "https://localhost:8080/"
        },
        "id": "nfCw8phrQkNf",
        "outputId": "f331d429-a7fb-457f-91ce-57d12e000d04"
      },
      "execution_count": null,
      "outputs": [
        {
          "output_type": "stream",
          "name": "stdout",
          "text": [
            "Hello World\n"
          ]
        }
      ]
    },
    {
      "cell_type": "code",
      "source": [
        "'''\n",
        "Escreva um programa que solicite ao usuário um número inteiro e ao final apresente na tela\n",
        "o número informado pelo usuário do programa\n",
        "'''\n",
        "print(\"Digite um numero inteiro\")\n",
        "numeroineiro = int(input())\n",
        "print(numeroineiro)\n",
        "\n",
        "\n"
      ],
      "metadata": {
        "colab": {
          "base_uri": "https://localhost:8080/"
        },
        "id": "q2yTEfVXbAEY",
        "outputId": "8c3dba1d-486d-427c-e756-754eabc3b7c6"
      },
      "execution_count": null,
      "outputs": [
        {
          "output_type": "stream",
          "name": "stdout",
          "text": [
            "Digite um numero intiro: 13\n",
            "13\n"
          ]
        }
      ]
    },
    {
      "cell_type": "code",
      "source": [
        "'''\n",
        "Escreva um programa que solicite ao usuário um número inteiro e ao final apresente na tela\n",
        "o número informado da seguinte forma: \"Foi informado o valor: X\"\n",
        "'''\n",
        "print(\"Digite um numero inteiro\")\n",
        "numerointeiro = int(input())\n",
        "print(f\"Foi informado o valor: {numerointeiro}\")"
      ],
      "metadata": {
        "colab": {
          "base_uri": "https://localhost:8080/"
        },
        "id": "oixu1oiahIcO",
        "outputId": "1deb8b0d-209a-435b-dc23-43c57bc0407d"
      },
      "execution_count": null,
      "outputs": [
        {
          "output_type": "stream",
          "name": "stdout",
          "text": [
            "Digite um numero inteiro\n",
            "3\n",
            "Foi informado o valor: 3\n"
          ]
        }
      ]
    },
    {
      "cell_type": "code",
      "source": [
        "'''\n",
        "Escreva um programa que solicite ao usuário dois números inteiros e ao final apresente na\n",
        "tela os dois números informados da seguinte forma: \"Voce informou os numeros X e Y\"\n",
        "'''\n",
        "print(\"Digite um numero inteiro\")\n",
        "n1 = int(input())\n",
        "print(\"Digite outro numero inteiro\")\n",
        "n2 = int(input())\n",
        "print(f\"Voce informou os numeros {n1} e {n2}\")"
      ],
      "metadata": {
        "colab": {
          "base_uri": "https://localhost:8080/"
        },
        "id": "hN36ymW3h3Y5",
        "outputId": "d4960b9c-583b-46d8-98b3-f6a669f29400"
      },
      "execution_count": null,
      "outputs": [
        {
          "output_type": "stream",
          "name": "stdout",
          "text": [
            "Digite um numero inteiro\n",
            "5\n",
            "Digite outro numero inteiro\n",
            "6\n",
            "Voce informou os numeros 5 e 6\n"
          ]
        }
      ]
    },
    {
      "cell_type": "code",
      "source": [
        "'''\n",
        "Escreva um programa que solicite ao usuário um número real e ao final apresente na tela o\n",
        "número informado formatado com duas casas decimais da seguinte forma: \"Voce informou\n",
        "o numero X.YY\"\n",
        "'''\n",
        "print(\"Digite um numero: \")\n",
        "numero = float(input())\n",
        "numero_decimal = f\"{numero:.2f}\"\n",
        "print(f\"Você informou o numero {numero_decimal}\")\n"
      ],
      "metadata": {
        "colab": {
          "base_uri": "https://localhost:8080/"
        },
        "id": "IceeH_Rq_1gC",
        "outputId": "3c13defe-c8f2-44dd-974a-4cd3b622ccc1"
      },
      "execution_count": 10,
      "outputs": [
        {
          "output_type": "stream",
          "name": "stdout",
          "text": [
            "Digite um numero: \n",
            "3.2346\n",
            "Você informou o numero 3.23\n"
          ]
        }
      ]
    },
    {
      "cell_type": "code",
      "source": [
        "'''\n",
        "Escreva um programa que solicite ao usuário a temperatura em graus Celsius e ao final\n",
        "apresente a temperatura correspondente em graus Farenheit. F = Celsius * 1.8 + 32\n",
        "'''\n",
        "print(\"Digite a temperatura em graus Celsius\")\n",
        "Celsius = int(input())\n",
        "Farenheit = Celsius * 1.8 + 32\n",
        "print(f\"A temperatura em Farenheit é {Farenheit}\")"
      ],
      "metadata": {
        "colab": {
          "base_uri": "https://localhost:8080/"
        },
        "id": "4cnErXRkB5UX",
        "outputId": "eb5b3cee-663d-415c-ec44-f2a8dd791ad9"
      },
      "execution_count": 11,
      "outputs": [
        {
          "output_type": "stream",
          "name": "stdout",
          "text": [
            "Digite a temperatura em graus Celsius\n",
            "32\n",
            "A temperatura em Farenheit é 89.6\n"
          ]
        }
      ]
    },
    {
      "cell_type": "code",
      "source": [
        "'''\n",
        "Escreva um programa que solicite ao usuário um número inteiro e um número real e ao final\n",
        "apresente na tela os dois números informados formatando com duas casas decimais\n",
        "somente o número real da seguinte forma: \"Voce informou os numeros N e X.YY\"\n",
        "'''\n",
        "print(\"Digite um numero inteiro: \")\n",
        "numero_inteiro = int(input())\n",
        "print(\"Digite um numero real: \")\n",
        "numero_real = float(input())\n",
        "numero_realf = f\"{numero_real:.2f}\"\n",
        "print(f\"Você informou os numeros {numero_inteiro} e {numero_realf}\")"
      ],
      "metadata": {
        "colab": {
          "base_uri": "https://localhost:8080/"
        },
        "id": "nOeP-ZkLCnIs",
        "outputId": "d84aaa8b-9dcc-4d88-aec2-40922dabf940"
      },
      "execution_count": 13,
      "outputs": [
        {
          "output_type": "stream",
          "name": "stdout",
          "text": [
            "Digite um numero inteiro: \n",
            "3\n",
            "Digite um numero real: \n",
            "3.2222222\n",
            "Você informou os numeros 3 e 3.22\n"
          ]
        }
      ]
    },
    {
      "cell_type": "code",
      "source": [
        "'''\n",
        "Escreva um programa que solicite ao usuário a primeira letra de seu nome e ao final\n",
        "apresente na tela a letra informada pelo usuário da seguinte forma: \"Voce digitou w\"\n",
        "'''\n",
        "print(\"Digite a primeira letra do seu nome: \")\n",
        "letra = input()\n",
        "print(f\"Você digitou {letra}\")"
      ],
      "metadata": {
        "colab": {
          "base_uri": "https://localhost:8080/"
        },
        "id": "1nk1FqIcDcJI",
        "outputId": "c3c89df0-6963-409c-c785-409ed4f1dab9"
      },
      "execution_count": 14,
      "outputs": [
        {
          "output_type": "stream",
          "name": "stdout",
          "text": [
            "Digite a primeira letra do seu nome: \n",
            "A\n",
            "Você digitou A\n"
          ]
        }
      ]
    },
    {
      "cell_type": "code",
      "source": [
        "'''\n",
        "Escreva um programa que solicite ao usuário o nome de sua cor preferida e ao final\n",
        "apresente na tela a cor informada pelo usuário da seguinte forma: \"Voce gosta da cor AAA\"\n",
        "'''\n",
        "print(\"Digite o nome da sua cor favorita: \")\n",
        "cor = input()\n",
        "print(f\"Você gosta da cor {cor}\")"
      ],
      "metadata": {
        "colab": {
          "base_uri": "https://localhost:8080/"
        },
        "id": "TDJwK7LrD8yf",
        "outputId": "e6ceb085-43c3-444c-e684-7c3c21715a81"
      },
      "execution_count": 15,
      "outputs": [
        {
          "output_type": "stream",
          "name": "stdout",
          "text": [
            "Digite o nome da sua cor favorita: \n",
            "azul\n",
            "Você gosta da cor azul\n"
          ]
        }
      ]
    },
    {
      "cell_type": "code",
      "source": [
        "'''\n",
        "Escreva um programa que solicite ao usuário o nome de uma verdura e uma fruta de sua\n",
        "preferencia e ao final apresente na tela as informações digitadas pelo usuário da seguinte\n",
        "forma: \"Voce gosta de AAAAAAA e BBBBBBB\"\n",
        "'''\n",
        "print(\"Digite o nome da sua verdura favorita: \")\n",
        "verdura = input()\n",
        "print(\"Digite o nome da sua fruta favorita: \")\n",
        "fruta = input()\n",
        "print(f\"Você gosta de {verdura} e {fruta}\")"
      ],
      "metadata": {
        "colab": {
          "base_uri": "https://localhost:8080/"
        },
        "id": "IU8o59hOEVPc",
        "outputId": "f5462ef6-a5db-4e5f-b089-90c39a7665aa"
      },
      "execution_count": 16,
      "outputs": [
        {
          "output_type": "stream",
          "name": "stdout",
          "text": [
            "Digite o nome da sua verdura favorita: \n",
            "alface\n",
            "Digite o nome da sua fruta favorita: \n",
            "banana\n",
            "Você gosta de alface e banana\n"
          ]
        }
      ]
    },
    {
      "cell_type": "code",
      "source": [
        "'''\n",
        "Elabore um algoritmo que solicite ao usuário um número real e ao final imprima na tela o\n",
        "numero informado e na linha de baixo o dobro deste número da seguinte forma:\n",
        "Numero -> X\n",
        "Dobro deste numero -> Y\n",
        "'''\n",
        "print(\"Digite um numero inteiro: \")\n",
        "numero = int(input())\n",
        "print(f\"Numero -> {numero}\")\n",
        "dobro = numero * 2\n",
        "print(f\"Dobro deste numero -> {dobro}\")"
      ],
      "metadata": {
        "colab": {
          "base_uri": "https://localhost:8080/"
        },
        "id": "d2JypkNiFCPJ",
        "outputId": "292b0c51-9774-46f0-83fc-5f7f748bcee6"
      },
      "execution_count": 20,
      "outputs": [
        {
          "output_type": "stream",
          "name": "stdout",
          "text": [
            "Digite um numero inteiro: \n",
            "25\n",
            "Numero -> 25\n",
            "Dobro deste numero -> 50\n"
          ]
        }
      ]
    },
    {
      "cell_type": "code",
      "source": [
        "'''\n",
        "Reescrever o programa anterior apresentando o quadrado e o cubo do número informado\n",
        "'''\n",
        "print(\"Digite um numero inteiro: \")\n",
        "numero = int(input())\n",
        "print(f\"Numero -> {numero}\")\n",
        "quadrado = numero ** 2\n",
        "cubo = numero ** 3\n",
        "print(f\"Quadrado deste numero -> {quadrado}\")\n",
        "print(f\"cubo deste numero -> {cubo}\")"
      ],
      "metadata": {
        "colab": {
          "base_uri": "https://localhost:8080/"
        },
        "id": "vFls0CiAFo2B",
        "outputId": "cc868a1d-19a4-46c5-d27c-137006e400fa"
      },
      "execution_count": 21,
      "outputs": [
        {
          "output_type": "stream",
          "name": "stdout",
          "text": [
            "Digite um numero inteiro: \n",
            "3\n",
            "Numero -> 3\n",
            "Quadrado deste numero -> 9\n",
            "cubo deste numero -> 27\n"
          ]
        }
      ]
    },
    {
      "cell_type": "code",
      "source": [
        "'''\n",
        "Escreva um programa que solicite ao usuário dois números inteiros e ao final apresente\n",
        "na tela a soma dos dois números informados da seguinte forma: \"O numeros N e X\n",
        "somados correspondem a Y\"\n",
        "'''\n",
        "print(\"Digite um numero inteiro: \")\n",
        "numero = int(input())\n",
        "print(\"Digite outro numero inteiro: \")\n",
        "numero2 = int(input())\n",
        "soma = numero + numero2\n",
        "print(f\"Os numero {numero} e {numero2} somados correspondem a {soma}\")"
      ],
      "metadata": {
        "colab": {
          "base_uri": "https://localhost:8080/"
        },
        "id": "LFBFXrADGcOQ",
        "outputId": "0b761214-bf23-460f-b574-dd422b373e86"
      },
      "execution_count": 22,
      "outputs": [
        {
          "output_type": "stream",
          "name": "stdout",
          "text": [
            "Digite um numero inteiro: \n",
            "3\n",
            "Digite outro numero inteiro: \n",
            "2\n",
            "Os numero 3 e 2 somados correspondem a 5\n"
          ]
        }
      ]
    },
    {
      "cell_type": "code",
      "source": [
        "'''\n",
        "Escreva um programa que solicite ao usuário dois números reais e ao final apresente na\n",
        "tela o produto dos dois números informados da seguinte forma: \"O produto dos numeros N\n",
        "e X corresponde a Y\"\n",
        "'''\n",
        "print(\"Digite um numero real: \")\n",
        "numero = float(input())\n",
        "print(\"Digite outro numero real: \")\n",
        "numero2 = float(input())\n",
        "produto = numero * numero2\n",
        "print(f\"O produto dos numeros {numero} e {numero2} corresponde a {produto}\")"
      ],
      "metadata": {
        "colab": {
          "base_uri": "https://localhost:8080/"
        },
        "id": "0br2p3d1G3hR",
        "outputId": "deb3993b-28e2-4555-b4d9-65bcba7abd2d"
      },
      "execution_count": 23,
      "outputs": [
        {
          "output_type": "stream",
          "name": "stdout",
          "text": [
            "Digite um numero real: \n",
            "2\n",
            "Digite outro numero real: \n",
            "3\n",
            "O produto dos numeros 2.0 e 3.0 corresponde a 6.0\n"
          ]
        }
      ]
    },
    {
      "cell_type": "code",
      "source": [
        "'''\n",
        "Refazer o programa 14 realizando as quatro operações aritméticas básicas\n",
        "'''\n",
        "print(\"Digite um numero real: \")\n",
        "numero = float(input())\n",
        "print(\"Digite outro numero real: \")\n",
        "numero2 = float(input())\n",
        "soma = numero + numero2\n",
        "subtracao = numero - numero2\n",
        "produto = numero * numero2\n",
        "divisao = numero / numero2\n",
        "print(f\"As equações dos numeros {numero} e {numero2} corresponde a\")\n",
        "print(f\"soma = {soma}\")\n",
        "print(f\"subtração = {subtracao}\")\n",
        "print(f\"produto = {produto}\")\n",
        "print(f\"Divisão = {divisao}\")"
      ],
      "metadata": {
        "colab": {
          "base_uri": "https://localhost:8080/"
        },
        "id": "DN6pfwnOHjyI",
        "outputId": "c8806b94-98a2-4720-f9b4-fc57deaf98a1"
      },
      "execution_count": 24,
      "outputs": [
        {
          "output_type": "stream",
          "name": "stdout",
          "text": [
            "Digite um numero real: \n",
            "4\n",
            "Digite outro numero real: \n",
            "2\n",
            "As equações dos numeros 4.0 e 2.0 corresponde a\n",
            "soma = 6.0\n",
            "subtração = 2.0\n",
            "produto = 8.0\n",
            "Divisão = 2.0\n"
          ]
        }
      ]
    },
    {
      "cell_type": "code",
      "source": [
        "'''\n",
        "Escreva um programa que solicite o valor fixo do salário de um vendedor, o total vendido\n",
        "no mês e o percentual de comissão do vendedor. Ao final apresentar o salário bruto.\n",
        "'''\n",
        "print(\"Escreva o valor fixo do seu salario: \")\n",
        "salario = float(input())\n",
        "print(\"Escreva o total de vendas do mes: \")\n",
        "vendas = float(input())\n",
        "print(\"Escreva o percentual da sua comissão: \")\n",
        "percentual = float(input())\n",
        "comissao = vendas * (percentual / 100)\n",
        "bruto = salario + comissao\n",
        "print(f\"O salario bruto é {bruto}\")"
      ],
      "metadata": {
        "colab": {
          "base_uri": "https://localhost:8080/"
        },
        "id": "iSpsIgnpIXkY",
        "outputId": "f27bef93-3fde-4093-cf8c-52e86b44ddb5"
      },
      "execution_count": 25,
      "outputs": [
        {
          "output_type": "stream",
          "name": "stdout",
          "text": [
            "Escreva o valor fixo do seu salario: \n",
            "3000\n",
            "Escreva o total de vendas do mes: \n",
            "250\n",
            "Escreva o percentual da sua comissão: \n",
            "60\n",
            "O salario bruto é 3150.0\n"
          ]
        }
      ]
    }
  ]
}